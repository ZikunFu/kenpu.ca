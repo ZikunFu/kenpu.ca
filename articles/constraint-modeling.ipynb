{
 "cells": [
  {
   "cell_type": "raw",
   "metadata": {},
   "source": [
    "---\n",
    "title: \"Structured Constraint Programming\"\n",
    "author: Ken Pu\n",
    "---"
   ]
  },
  {
   "cell_type": "markdown",
   "metadata": {},
   "source": [
    "## Introduction\n",
    "\n",
    "Let's look at ways we can build constraint programs (CP) in a structured way.  As a case study, we will model the curriculum requirements of the [Computer Science program](https://calendar.ontariotechu.ca/preview_program.php?catoid=81&poid=17568&returnto=3700)."
   ]
  },
  {
   "cell_type": "code",
   "execution_count": 31,
   "metadata": {},
   "outputs": [],
   "source": [
    "#| include: false\n",
    "\n",
    "from ortools.sat.python import cp_model\n",
    "from ortools.sat.python.cp_model import CpModel, CpSolver\n",
    "import pandas as pd\n",
    "from pandas import Series, DataFrame\n",
    "import numpy as np\n",
    "from functools import partial"
   ]
  },
  {
   "cell_type": "markdown",
   "metadata": {},
   "source": [
    "## Data\n",
    "\n",
    "Let's start with data.  The _environment_ is modeled as a database.  Let's build a database to model the curriculum."
   ]
  },
  {
   "cell_type": "code",
   "execution_count": 32,
   "metadata": {},
   "outputs": [
    {
     "data": {
      "text/plain": [
       "0      Y1 Fall\n",
       "1    Y1 Winter\n",
       "2      Y2 Fall\n",
       "3    Y2 Winter\n",
       "4      Y3 Fall\n",
       "5    Y3 Winter\n",
       "6      Y4 Fall\n",
       "7    Y4 Winter\n",
       "Name: semesters, dtype: object"
      ]
     },
     "execution_count": 32,
     "metadata": {},
     "output_type": "execute_result"
    }
   ],
   "source": [
    "data = []\n",
    "for i in range(4):\n",
    "    for s in ['Fall', 'Winter']:\n",
    "        data.append(f\"Y{i+1} {s}\")\n",
    "\n",
    "semesters = Series(data, name='semesters')\n",
    "semesters"
   ]
  },
  {
   "cell_type": "markdown",
   "metadata": {},
   "source": [
    "::: {.column-margin}\n",
    "The semesters of the curriculum.\n",
    ":::"
   ]
  },
  {
   "cell_type": "code",
   "execution_count": 33,
   "metadata": {},
   "outputs": [
    {
     "data": {
      "text/plain": [
       "0    CSCI 1030U\n",
       "1    CSCI 1060U\n",
       "2    CSCI 1061U\n",
       "3    CSCI 1062U\n",
       "4    CSCI 1063U\n",
       "Name: courses, dtype: object"
      ]
     },
     "execution_count": 33,
     "metadata": {},
     "output_type": "execute_result"
    }
   ],
   "source": [
    "data = [\n",
    "    'CSCI 1030U', 'CSCI 1060U', 'CSCI 1061U', 'CSCI 1062U', 'CSCI 1063U', \n",
    "    'CSCI 2000U', 'CSCI 2010U', 'CSCI 2020U', 'CSCI 2040U', 'CSCI 2050U',\n",
    "    'CSCI 2072U', 'CSCI 2110U', 'CSCI 3010U', 'CSCI 3030U', 'CSCI 3055U', \n",
    "    'CSCI 3060U', 'CSCI 3070U', 'CSCI 3090U', 'CSCI 3230U', 'CSCI 3240U', \n",
    "    'CSCI 3310U', 'CSCI 3540U', 'CSCI 4020U', 'CSCI 4030U', 'CSCI 4040U', \n",
    "    'CSCI 4050U', 'CSCI 4052U', 'CSCI 4055U', 'CSCI 4060U', 'CSCI 4080U', \n",
    "    'CSCI 4100U', 'CSCI 4110U', 'CSCI 4140U', 'CSCI 4150U', 'CSCI 4160U', \n",
    "    'CSCI 4210U', 'CSCI 4220U', 'CSCI 4230U', 'CSCI 4410U', 'CSCI 4420U', \n",
    "    'CSCI 4430U', 'CSCI 4610U', 'CSCI 4620U'\n",
    "]\n",
    "\n",
    "courses = Series(data, name='courses')\n",
    "courses.head()"
   ]
  },
  {
   "cell_type": "markdown",
   "metadata": {},
   "source": [
    "Data is needed to model prerequisites and areas of senior courses.  For now, let's get back to these relations laters."
   ]
  },
  {
   "cell_type": "markdown",
   "metadata": {},
   "source": [
    "## Unknowns\n",
    "\n",
    "We will also call them _independent variables_.  These are the variables that should be solved to derive the desired solution."
   ]
  },
  {
   "cell_type": "code",
   "execution_count": 34,
   "metadata": {},
   "outputs": [],
   "source": [
    "def make_unknowns(model:CpModel)->DataFrame:\n",
    "    data = np.empty((len(courses), len(semesters)), dtype=object)\n",
    "    for i,c in enumerate(courses):\n",
    "        for (j, s) in enumerate(semesters):\n",
    "            data[i,j] = model.new_bool_var(f\"{c}∈{s}?\")\n",
    "\n",
    "    unknown = pd.DataFrame(data, index=courses, columns=semesters)\n",
    "    return unknown"
   ]
  },
  {
   "cell_type": "code",
   "execution_count": 35,
   "metadata": {},
   "outputs": [
    {
     "data": {
      "text/html": [
       "<div>\n",
       "<style scoped>\n",
       "    .dataframe tbody tr th:only-of-type {\n",
       "        vertical-align: middle;\n",
       "    }\n",
       "\n",
       "    .dataframe tbody tr th {\n",
       "        vertical-align: top;\n",
       "    }\n",
       "\n",
       "    .dataframe thead th {\n",
       "        text-align: right;\n",
       "    }\n",
       "</style>\n",
       "<table border=\"1\" class=\"dataframe\">\n",
       "  <thead>\n",
       "    <tr style=\"text-align: right;\">\n",
       "      <th>semesters</th>\n",
       "      <th>Y1 Fall</th>\n",
       "      <th>Y1 Winter</th>\n",
       "      <th>Y2 Fall</th>\n",
       "      <th>Y2 Winter</th>\n",
       "      <th>Y3 Fall</th>\n",
       "      <th>Y3 Winter</th>\n",
       "      <th>Y4 Fall</th>\n",
       "      <th>Y4 Winter</th>\n",
       "    </tr>\n",
       "    <tr>\n",
       "      <th>courses</th>\n",
       "      <th></th>\n",
       "      <th></th>\n",
       "      <th></th>\n",
       "      <th></th>\n",
       "      <th></th>\n",
       "      <th></th>\n",
       "      <th></th>\n",
       "      <th></th>\n",
       "    </tr>\n",
       "  </thead>\n",
       "  <tbody>\n",
       "    <tr>\n",
       "      <th>CSCI 1030U</th>\n",
       "      <td>CSCI 1030U∈Y1 Fall?</td>\n",
       "      <td>CSCI 1030U∈Y1 Winter?</td>\n",
       "      <td>CSCI 1030U∈Y2 Fall?</td>\n",
       "      <td>CSCI 1030U∈Y2 Winter?</td>\n",
       "      <td>CSCI 1030U∈Y3 Fall?</td>\n",
       "      <td>CSCI 1030U∈Y3 Winter?</td>\n",
       "      <td>CSCI 1030U∈Y4 Fall?</td>\n",
       "      <td>CSCI 1030U∈Y4 Winter?</td>\n",
       "    </tr>\n",
       "    <tr>\n",
       "      <th>CSCI 1060U</th>\n",
       "      <td>CSCI 1060U∈Y1 Fall?</td>\n",
       "      <td>CSCI 1060U∈Y1 Winter?</td>\n",
       "      <td>CSCI 1060U∈Y2 Fall?</td>\n",
       "      <td>CSCI 1060U∈Y2 Winter?</td>\n",
       "      <td>CSCI 1060U∈Y3 Fall?</td>\n",
       "      <td>CSCI 1060U∈Y3 Winter?</td>\n",
       "      <td>CSCI 1060U∈Y4 Fall?</td>\n",
       "      <td>CSCI 1060U∈Y4 Winter?</td>\n",
       "    </tr>\n",
       "    <tr>\n",
       "      <th>CSCI 1061U</th>\n",
       "      <td>CSCI 1061U∈Y1 Fall?</td>\n",
       "      <td>CSCI 1061U∈Y1 Winter?</td>\n",
       "      <td>CSCI 1061U∈Y2 Fall?</td>\n",
       "      <td>CSCI 1061U∈Y2 Winter?</td>\n",
       "      <td>CSCI 1061U∈Y3 Fall?</td>\n",
       "      <td>CSCI 1061U∈Y3 Winter?</td>\n",
       "      <td>CSCI 1061U∈Y4 Fall?</td>\n",
       "      <td>CSCI 1061U∈Y4 Winter?</td>\n",
       "    </tr>\n",
       "    <tr>\n",
       "      <th>CSCI 1062U</th>\n",
       "      <td>CSCI 1062U∈Y1 Fall?</td>\n",
       "      <td>CSCI 1062U∈Y1 Winter?</td>\n",
       "      <td>CSCI 1062U∈Y2 Fall?</td>\n",
       "      <td>CSCI 1062U∈Y2 Winter?</td>\n",
       "      <td>CSCI 1062U∈Y3 Fall?</td>\n",
       "      <td>CSCI 1062U∈Y3 Winter?</td>\n",
       "      <td>CSCI 1062U∈Y4 Fall?</td>\n",
       "      <td>CSCI 1062U∈Y4 Winter?</td>\n",
       "    </tr>\n",
       "    <tr>\n",
       "      <th>CSCI 1063U</th>\n",
       "      <td>CSCI 1063U∈Y1 Fall?</td>\n",
       "      <td>CSCI 1063U∈Y1 Winter?</td>\n",
       "      <td>CSCI 1063U∈Y2 Fall?</td>\n",
       "      <td>CSCI 1063U∈Y2 Winter?</td>\n",
       "      <td>CSCI 1063U∈Y3 Fall?</td>\n",
       "      <td>CSCI 1063U∈Y3 Winter?</td>\n",
       "      <td>CSCI 1063U∈Y4 Fall?</td>\n",
       "      <td>CSCI 1063U∈Y4 Winter?</td>\n",
       "    </tr>\n",
       "  </tbody>\n",
       "</table>\n",
       "</div>"
      ],
      "text/plain": [
       "semesters               Y1 Fall              Y1 Winter              Y2 Fall  \\\n",
       "courses                                                                       \n",
       "CSCI 1030U  CSCI 1030U∈Y1 Fall?  CSCI 1030U∈Y1 Winter?  CSCI 1030U∈Y2 Fall?   \n",
       "CSCI 1060U  CSCI 1060U∈Y1 Fall?  CSCI 1060U∈Y1 Winter?  CSCI 1060U∈Y2 Fall?   \n",
       "CSCI 1061U  CSCI 1061U∈Y1 Fall?  CSCI 1061U∈Y1 Winter?  CSCI 1061U∈Y2 Fall?   \n",
       "CSCI 1062U  CSCI 1062U∈Y1 Fall?  CSCI 1062U∈Y1 Winter?  CSCI 1062U∈Y2 Fall?   \n",
       "CSCI 1063U  CSCI 1063U∈Y1 Fall?  CSCI 1063U∈Y1 Winter?  CSCI 1063U∈Y2 Fall?   \n",
       "\n",
       "semesters               Y2 Winter              Y3 Fall              Y3 Winter  \\\n",
       "courses                                                                         \n",
       "CSCI 1030U  CSCI 1030U∈Y2 Winter?  CSCI 1030U∈Y3 Fall?  CSCI 1030U∈Y3 Winter?   \n",
       "CSCI 1060U  CSCI 1060U∈Y2 Winter?  CSCI 1060U∈Y3 Fall?  CSCI 1060U∈Y3 Winter?   \n",
       "CSCI 1061U  CSCI 1061U∈Y2 Winter?  CSCI 1061U∈Y3 Fall?  CSCI 1061U∈Y3 Winter?   \n",
       "CSCI 1062U  CSCI 1062U∈Y2 Winter?  CSCI 1062U∈Y3 Fall?  CSCI 1062U∈Y3 Winter?   \n",
       "CSCI 1063U  CSCI 1063U∈Y2 Winter?  CSCI 1063U∈Y3 Fall?  CSCI 1063U∈Y3 Winter?   \n",
       "\n",
       "semesters               Y4 Fall              Y4 Winter  \n",
       "courses                                                 \n",
       "CSCI 1030U  CSCI 1030U∈Y4 Fall?  CSCI 1030U∈Y4 Winter?  \n",
       "CSCI 1060U  CSCI 1060U∈Y4 Fall?  CSCI 1060U∈Y4 Winter?  \n",
       "CSCI 1061U  CSCI 1061U∈Y4 Fall?  CSCI 1061U∈Y4 Winter?  \n",
       "CSCI 1062U  CSCI 1062U∈Y4 Fall?  CSCI 1062U∈Y4 Winter?  \n",
       "CSCI 1063U  CSCI 1063U∈Y4 Fall?  CSCI 1063U∈Y4 Winter?  "
      ]
     },
     "execution_count": 35,
     "metadata": {},
     "output_type": "execute_result"
    }
   ],
   "source": [
    "model = CpModel()\n",
    "unknown = make_unknowns(model)\n",
    "unknown.head()"
   ]
  },
  {
   "cell_type": "markdown",
   "metadata": {},
   "source": [
    "## Constraints\n",
    "\n",
    "We can immediate declare some basic constraints.\n",
    "\n",
    "1. Each course can only be taken at most once.\n",
    "2. Each semester can have at most 5 courses.\n",
    "3. Must take lots of courses."
   ]
  },
  {
   "cell_type": "code",
   "execution_count": 36,
   "metadata": {},
   "outputs": [],
   "source": [
    "def make_taken_atmost_once(model:CpModel, unknown:DataFrame)->Series:\n",
    "    def fn(row:pd.Series):\n",
    "        c = sum(row) <= 1\n",
    "        model.Add(c)\n",
    "        return c\n",
    "\n",
    "    return unknown.apply(fn, axis=1)"
   ]
  },
  {
   "cell_type": "markdown",
   "metadata": {},
   "source": [
    "::: {.column-margin}\n",
    "Each course can only be taken at most once.\n",
    ":::"
   ]
  },
  {
   "cell_type": "code",
   "execution_count": 37,
   "metadata": {},
   "outputs": [
    {
     "data": {
      "text/plain": [
       "courses\n",
       "CSCI 1030U    (((((((CSCI 1030U∈Y1 Fall? + CSCI 1030U∈Y1 Win...\n",
       "CSCI 1060U    (((((((CSCI 1060U∈Y1 Fall? + CSCI 1060U∈Y1 Win...\n",
       "CSCI 1061U    (((((((CSCI 1061U∈Y1 Fall? + CSCI 1061U∈Y1 Win...\n",
       "CSCI 1062U    (((((((CSCI 1062U∈Y1 Fall? + CSCI 1062U∈Y1 Win...\n",
       "CSCI 1063U    (((((((CSCI 1063U∈Y1 Fall? + CSCI 1063U∈Y1 Win...\n",
       "dtype: object"
      ]
     },
     "execution_count": 37,
     "metadata": {},
     "output_type": "execute_result"
    }
   ],
   "source": [
    "model = CpModel()\n",
    "unknown = make_unknowns(model)\n",
    "C1 = make_taken_atmost_once(model, unknown)\n",
    "C1.head()"
   ]
  },
  {
   "cell_type": "code",
   "execution_count": 38,
   "metadata": {},
   "outputs": [],
   "source": [
    "def make_semester_atmost_five(model:CpModel, unknown:DataFrame)->Series:\n",
    "    def fn(col:pd.Series):\n",
    "        c = sum(col) <= 5\n",
    "        model.Add(c)\n",
    "        return c\n",
    "\n",
    "    return unknown.apply(fn, axis=0)"
   ]
  },
  {
   "cell_type": "markdown",
   "metadata": {},
   "source": [
    "::: {.column-margin}\n",
    "Each semester can only have at most five courses.\n",
    ":::"
   ]
  },
  {
   "cell_type": "code",
   "execution_count": 39,
   "metadata": {},
   "outputs": [
    {
     "data": {
      "text/plain": [
       "semesters\n",
       "Y1 Fall      ((((((((((((((((((((((((((((((((((((((((((CSCI...\n",
       "Y1 Winter    ((((((((((((((((((((((((((((((((((((((((((CSCI...\n",
       "Y2 Fall      ((((((((((((((((((((((((((((((((((((((((((CSCI...\n",
       "Y2 Winter    ((((((((((((((((((((((((((((((((((((((((((CSCI...\n",
       "Y3 Fall      ((((((((((((((((((((((((((((((((((((((((((CSCI...\n",
       "dtype: object"
      ]
     },
     "execution_count": 39,
     "metadata": {},
     "output_type": "execute_result"
    }
   ],
   "source": [
    "model = CpModel()\n",
    "unknown = make_unknowns(model)\n",
    "C1 = make_semester_atmost_five(model, unknown)\n",
    "C1.head()"
   ]
  },
  {
   "cell_type": "code",
   "execution_count": 40,
   "metadata": {},
   "outputs": [],
   "source": [
    "def make_min_selection(model:CpModel, unknown:DataFrame, min:int):\n",
    "    vars = unknown.values.reshape(-1)\n",
    "    c = sum(vars) > min\n",
    "    model.Add(c)\n",
    "    return c"
   ]
  },
  {
   "cell_type": "markdown",
   "metadata": {},
   "source": [
    "## Dependent Variables\n",
    "\n",
    "We will declare a number of dependent variables.  These values are derived from data and unkowns (and maybe other dependent variables).\n",
    "Since the values of unknowns are non-deterministic, derived qualities are also variables.\n",
    "\n",
    "They can be general integer variables."
   ]
  },
  {
   "cell_type": "markdown",
   "metadata": {},
   "source": [
    "Let's create a set of dependent integer variables, `taken_in`, which indicates the semester that the courses are taken in.\n",
    "The `taken_in[c]` is from 1 to $n$ if the course `[c]` is taken.  Otherwise `taken_in[c] = 0`."
   ]
  },
  {
   "cell_type": "code",
   "execution_count": 41,
   "metadata": {},
   "outputs": [],
   "source": [
    "def make_taken_in(model:CpModel, unknown:DataFrame)->Series:\n",
    "    def fn(row:pd.Series)->cp_model.IntVar:\n",
    "        var = model.NewIntVar(0, len(row)+1, 'taken_in')\n",
    "        model.add_map_domain(var, row, offset=1)\n",
    "        return var\n",
    "\n",
    "    taken_in = unknown.apply(fn, axis=1)\n",
    "    return taken_in"
   ]
  },
  {
   "cell_type": "code",
   "execution_count": 42,
   "metadata": {},
   "outputs": [
    {
     "data": {
      "text/plain": [
       "courses\n",
       "CSCI 1030U    taken_in\n",
       "CSCI 1060U    taken_in\n",
       "CSCI 1061U    taken_in\n",
       "CSCI 1062U    taken_in\n",
       "CSCI 1063U    taken_in\n",
       "dtype: object"
      ]
     },
     "execution_count": 42,
     "metadata": {},
     "output_type": "execute_result"
    }
   ],
   "source": [
    "model = CpModel()\n",
    "unknowns = make_unknowns(model)\n",
    "taken_in = make_taken_in(model, unknown)\n",
    "\n",
    "taken_in.head()"
   ]
  },
  {
   "cell_type": "markdown",
   "metadata": {},
   "source": [
    "Let's also define the set of dependent variables, `taken`, which are booleans indicating of the course is taken."
   ]
  },
  {
   "cell_type": "code",
   "execution_count": 43,
   "metadata": {},
   "outputs": [],
   "source": [
    "def make_taken(model:CpModel, unknown:DataFrame)->Series:\n",
    "    def fn(row:pd.Series)->cp_model.IntVar:\n",
    "        var = model.NewBoolVar('taken')\n",
    "        model.AddMaxEquality(var, row)\n",
    "        return var\n",
    "\n",
    "    taken = unknown.apply(fn, axis=1)\n",
    "    return taken"
   ]
  },
  {
   "cell_type": "code",
   "execution_count": 44,
   "metadata": {},
   "outputs": [
    {
     "data": {
      "text/plain": [
       "courses\n",
       "CSCI 1030U    taken\n",
       "CSCI 1060U    taken\n",
       "CSCI 1061U    taken\n",
       "CSCI 1062U    taken\n",
       "CSCI 1063U    taken\n",
       "dtype: object"
      ]
     },
     "execution_count": 44,
     "metadata": {},
     "output_type": "execute_result"
    }
   ],
   "source": [
    "model = CpModel()\n",
    "unknown = make_unknowns(model)\n",
    "taken = make_taken(model, unknown)\n",
    "\n",
    "taken.head()"
   ]
  },
  {
   "cell_type": "markdown",
   "metadata": {},
   "source": [
    "## Solution\n",
    "\n",
    "We can solve the unknowns (hopefully) and the derived variables using a `Solver`.  The solution will be rendered by views."
   ]
  },
  {
   "cell_type": "code",
   "execution_count": 45,
   "metadata": {},
   "outputs": [
    {
     "data": {
      "text/plain": [
       "'optimal'"
      ]
     },
     "execution_count": 45,
     "metadata": {},
     "output_type": "execute_result"
    }
   ],
   "source": [
    "model = CpModel()\n",
    "unknown = make_unknowns(model)\n",
    "\n",
    "#\n",
    "# constraints\n",
    "#\n",
    "taken_atmost_once = make_taken_atmost_once(model, unknown)\n",
    "semester_atmost_five = make_semester_atmost_five(model, unknown)\n",
    "\n",
    "#\n",
    "# dependent variables\n",
    "#\n",
    "taken_in = make_taken_in(model, unknown)\n",
    "taken = make_taken(model, unknown)\n",
    "make_min_selection(model, unknown, min=35)\n",
    "\n",
    "#\n",
    "# solution\n",
    "#\n",
    "solver = cp_model.CpSolver()\n",
    "status = solver.solve(model)\n",
    "\n",
    "status_name = {\n",
    "    cp_model.OPTIMAL: 'optimal',\n",
    "    cp_model.FEASIBLE: 'feasible',\n",
    "    cp_model.INFEASIBLE: 'infeasible',\n",
    "    cp_model.MODEL_INVALID: 'invalid',\n",
    "    cp_model.UNKNOWN: 'unknown',\n",
    "}[status]\n",
    "\n",
    "status_name"
   ]
  },
  {
   "cell_type": "markdown",
   "metadata": {},
   "source": [
    "## Viewing the solution"
   ]
  },
  {
   "cell_type": "code",
   "execution_count": 46,
   "metadata": {},
   "outputs": [],
   "source": [
    "def view(solver:CpSolver, df:DataFrame)->DataFrame:\n",
    "    def fn(x):\n",
    "        return solver.value(x)\n",
    "    return df.map(fn)"
   ]
  },
  {
   "cell_type": "code",
   "execution_count": 47,
   "metadata": {},
   "outputs": [
    {
     "data": {
      "text/html": [
       "<div>\n",
       "<style scoped>\n",
       "    .dataframe tbody tr th:only-of-type {\n",
       "        vertical-align: middle;\n",
       "    }\n",
       "\n",
       "    .dataframe tbody tr th {\n",
       "        vertical-align: top;\n",
       "    }\n",
       "\n",
       "    .dataframe thead th {\n",
       "        text-align: right;\n",
       "    }\n",
       "</style>\n",
       "<table border=\"1\" class=\"dataframe\">\n",
       "  <thead>\n",
       "    <tr style=\"text-align: right;\">\n",
       "      <th>semesters</th>\n",
       "      <th>Y1 Fall</th>\n",
       "      <th>Y1 Winter</th>\n",
       "      <th>Y2 Fall</th>\n",
       "      <th>Y2 Winter</th>\n",
       "      <th>Y3 Fall</th>\n",
       "      <th>Y3 Winter</th>\n",
       "      <th>Y4 Fall</th>\n",
       "      <th>Y4 Winter</th>\n",
       "    </tr>\n",
       "    <tr>\n",
       "      <th>courses</th>\n",
       "      <th></th>\n",
       "      <th></th>\n",
       "      <th></th>\n",
       "      <th></th>\n",
       "      <th></th>\n",
       "      <th></th>\n",
       "      <th></th>\n",
       "      <th></th>\n",
       "    </tr>\n",
       "  </thead>\n",
       "  <tbody>\n",
       "    <tr>\n",
       "      <th>CSCI 1030U</th>\n",
       "      <td>1</td>\n",
       "      <td>0</td>\n",
       "      <td>0</td>\n",
       "      <td>0</td>\n",
       "      <td>0</td>\n",
       "      <td>0</td>\n",
       "      <td>0</td>\n",
       "      <td>0</td>\n",
       "    </tr>\n",
       "    <tr>\n",
       "      <th>CSCI 1060U</th>\n",
       "      <td>0</td>\n",
       "      <td>0</td>\n",
       "      <td>0</td>\n",
       "      <td>0</td>\n",
       "      <td>0</td>\n",
       "      <td>0</td>\n",
       "      <td>0</td>\n",
       "      <td>0</td>\n",
       "    </tr>\n",
       "    <tr>\n",
       "      <th>CSCI 1061U</th>\n",
       "      <td>0</td>\n",
       "      <td>0</td>\n",
       "      <td>0</td>\n",
       "      <td>0</td>\n",
       "      <td>0</td>\n",
       "      <td>0</td>\n",
       "      <td>0</td>\n",
       "      <td>0</td>\n",
       "    </tr>\n",
       "    <tr>\n",
       "      <th>CSCI 1062U</th>\n",
       "      <td>0</td>\n",
       "      <td>0</td>\n",
       "      <td>0</td>\n",
       "      <td>0</td>\n",
       "      <td>0</td>\n",
       "      <td>0</td>\n",
       "      <td>0</td>\n",
       "      <td>0</td>\n",
       "    </tr>\n",
       "    <tr>\n",
       "      <th>CSCI 1063U</th>\n",
       "      <td>1</td>\n",
       "      <td>0</td>\n",
       "      <td>0</td>\n",
       "      <td>0</td>\n",
       "      <td>0</td>\n",
       "      <td>0</td>\n",
       "      <td>0</td>\n",
       "      <td>0</td>\n",
       "    </tr>\n",
       "  </tbody>\n",
       "</table>\n",
       "</div>"
      ],
      "text/plain": [
       "semesters   Y1 Fall  Y1 Winter  Y2 Fall  Y2 Winter  Y3 Fall  Y3 Winter  \\\n",
       "courses                                                                  \n",
       "CSCI 1030U        1          0        0          0        0          0   \n",
       "CSCI 1060U        0          0        0          0        0          0   \n",
       "CSCI 1061U        0          0        0          0        0          0   \n",
       "CSCI 1062U        0          0        0          0        0          0   \n",
       "CSCI 1063U        1          0        0          0        0          0   \n",
       "\n",
       "semesters   Y4 Fall  Y4 Winter  \n",
       "courses                         \n",
       "CSCI 1030U        0          0  \n",
       "CSCI 1060U        0          0  \n",
       "CSCI 1061U        0          0  \n",
       "CSCI 1062U        0          0  \n",
       "CSCI 1063U        0          0  "
      ]
     },
     "execution_count": 47,
     "metadata": {},
     "output_type": "execute_result"
    }
   ],
   "source": [
    "view(solver, unknown).head()"
   ]
  },
  {
   "cell_type": "code",
   "execution_count": 48,
   "metadata": {},
   "outputs": [
    {
     "data": {
      "text/plain": [
       "courses\n",
       "CSCI 1030U    1\n",
       "CSCI 1060U    0\n",
       "CSCI 1061U    0\n",
       "CSCI 1062U    0\n",
       "CSCI 1063U    1\n",
       "CSCI 2000U    1\n",
       "CSCI 2010U    1\n",
       "CSCI 2020U    1\n",
       "CSCI 2040U    2\n",
       "CSCI 2050U    2\n",
       "CSCI 2072U    2\n",
       "CSCI 2110U    2\n",
       "CSCI 3010U    2\n",
       "CSCI 3030U    3\n",
       "CSCI 3055U    3\n",
       "CSCI 3060U    3\n",
       "CSCI 3070U    3\n",
       "CSCI 3090U    3\n",
       "CSCI 3230U    4\n",
       "CSCI 3240U    4\n",
       "CSCI 3310U    4\n",
       "CSCI 3540U    4\n",
       "CSCI 4020U    4\n",
       "CSCI 4030U    5\n",
       "CSCI 4040U    5\n",
       "CSCI 4050U    5\n",
       "CSCI 4052U    5\n",
       "CSCI 4055U    5\n",
       "CSCI 4060U    6\n",
       "CSCI 4080U    6\n",
       "CSCI 4100U    6\n",
       "CSCI 4110U    6\n",
       "CSCI 4140U    6\n",
       "CSCI 4150U    7\n",
       "CSCI 4160U    7\n",
       "CSCI 4210U    7\n",
       "CSCI 4220U    7\n",
       "CSCI 4230U    7\n",
       "CSCI 4410U    8\n",
       "CSCI 4420U    8\n",
       "CSCI 4430U    8\n",
       "CSCI 4610U    8\n",
       "CSCI 4620U    8\n",
       "dtype: int64"
      ]
     },
     "execution_count": 48,
     "metadata": {},
     "output_type": "execute_result"
    }
   ],
   "source": [
    "view(solver, taken_in)"
   ]
  },
  {
   "cell_type": "code",
   "execution_count": 69,
   "metadata": {},
   "outputs": [
    {
     "data": {
      "text/html": [
       "<div>\n",
       "<style scoped>\n",
       "    .dataframe tbody tr th:only-of-type {\n",
       "        vertical-align: middle;\n",
       "    }\n",
       "\n",
       "    .dataframe tbody tr th {\n",
       "        vertical-align: top;\n",
       "    }\n",
       "\n",
       "    .dataframe thead th {\n",
       "        text-align: right;\n",
       "    }\n",
       "</style>\n",
       "<table border=\"1\" class=\"dataframe\">\n",
       "  <thead>\n",
       "    <tr style=\"text-align: right;\">\n",
       "      <th></th>\n",
       "      <th>courses</th>\n",
       "    </tr>\n",
       "    <tr>\n",
       "      <th>semester</th>\n",
       "      <th></th>\n",
       "    </tr>\n",
       "  </thead>\n",
       "  <tbody>\n",
       "    <tr>\n",
       "      <th>0</th>\n",
       "      <td>3 :CSCI 1060U, CSCI 1061U, CSCI 1062U</td>\n",
       "    </tr>\n",
       "    <tr>\n",
       "      <th>1</th>\n",
       "      <td>5 :CSCI 1030U, CSCI 1063U, CSCI 2000U, CSCI 20...</td>\n",
       "    </tr>\n",
       "    <tr>\n",
       "      <th>2</th>\n",
       "      <td>5 :CSCI 2040U, CSCI 2050U, CSCI 2072U, CSCI 21...</td>\n",
       "    </tr>\n",
       "    <tr>\n",
       "      <th>3</th>\n",
       "      <td>5 :CSCI 3030U, CSCI 3055U, CSCI 3060U, CSCI 30...</td>\n",
       "    </tr>\n",
       "    <tr>\n",
       "      <th>4</th>\n",
       "      <td>5 :CSCI 3230U, CSCI 3240U, CSCI 3310U, CSCI 35...</td>\n",
       "    </tr>\n",
       "    <tr>\n",
       "      <th>5</th>\n",
       "      <td>5 :CSCI 4030U, CSCI 4040U, CSCI 4050U, CSCI 40...</td>\n",
       "    </tr>\n",
       "    <tr>\n",
       "      <th>6</th>\n",
       "      <td>5 :CSCI 4060U, CSCI 4080U, CSCI 4100U, CSCI 41...</td>\n",
       "    </tr>\n",
       "    <tr>\n",
       "      <th>7</th>\n",
       "      <td>5 :CSCI 4150U, CSCI 4160U, CSCI 4210U, CSCI 42...</td>\n",
       "    </tr>\n",
       "    <tr>\n",
       "      <th>8</th>\n",
       "      <td>5 :CSCI 4410U, CSCI 4420U, CSCI 4430U, CSCI 46...</td>\n",
       "    </tr>\n",
       "  </tbody>\n",
       "</table>\n",
       "</div>"
      ],
      "text/plain": [
       "                                                    courses\n",
       "semester                                                   \n",
       "0                     3 :CSCI 1060U, CSCI 1061U, CSCI 1062U\n",
       "1         5 :CSCI 1030U, CSCI 1063U, CSCI 2000U, CSCI 20...\n",
       "2         5 :CSCI 2040U, CSCI 2050U, CSCI 2072U, CSCI 21...\n",
       "3         5 :CSCI 3030U, CSCI 3055U, CSCI 3060U, CSCI 30...\n",
       "4         5 :CSCI 3230U, CSCI 3240U, CSCI 3310U, CSCI 35...\n",
       "5         5 :CSCI 4030U, CSCI 4040U, CSCI 4050U, CSCI 40...\n",
       "6         5 :CSCI 4060U, CSCI 4080U, CSCI 4100U, CSCI 41...\n",
       "7         5 :CSCI 4150U, CSCI 4160U, CSCI 4210U, CSCI 42...\n",
       "8         5 :CSCI 4410U, CSCI 4420U, CSCI 4430U, CSCI 46..."
      ]
     },
     "execution_count": 69,
     "metadata": {},
     "output_type": "execute_result"
    }
   ],
   "source": [
    "view(solver, taken_in) \\\n",
    ".to_frame() \\\n",
    ".reset_index() \\\n",
    ".rename(columns={0: 'semester'}) \\\n",
    ".groupby(by='semester') \\\n",
    ".agg({\n",
    "    'courses': lambda x: (f\"{len(x)} :\" + \", \".join(x))\n",
    "})"
   ]
  },
  {
   "cell_type": "code",
   "execution_count": null,
   "metadata": {},
   "outputs": [],
   "source": []
  }
 ],
 "metadata": {
  "kernelspec": {
   "display_name": "base",
   "language": "python",
   "name": "python3"
  },
  "language_info": {
   "codemirror_mode": {
    "name": "ipython",
    "version": 3
   },
   "file_extension": ".py",
   "mimetype": "text/x-python",
   "name": "python",
   "nbconvert_exporter": "python",
   "pygments_lexer": "ipython3",
   "version": "3.12.2"
  }
 },
 "nbformat": 4,
 "nbformat_minor": 2
}
