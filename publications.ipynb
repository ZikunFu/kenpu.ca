{
 "cells": [
  {
   "cell_type": "raw",
   "metadata": {},
   "source": [
    "---\n",
    "title: \"Recent Publications\"\n",
    "---"
   ]
  },
  {
   "cell_type": "markdown",
   "metadata": {},
   "source": [
    "## Journals\n",
    "\n",
    "- Nargesian, Fatemeh, Ken Qian Pu, Bahar Ghadiri Bashardoost, Erkang Zhu, and Renee J. Miller. \"Data Lake Organization.\" IEEE Transactions on Knowledge and Data Engineering (2022). [PDF](static/pdfs/Data_Lake_Organization.pdf)\n",
    "\n",
    "## Conferences & Workshops\n",
    "\n",
    "- Pu, Ken, and Limin Ma. \"Incremental Computation of Information Gain in Temporal Relational Streams.\" 2022 IEEE 23rd International Conference on Information Reuse and Integration for Data Science (IRI). IEEE Computer Society, 2022.\n",
    "\n",
    "- Valdron, Michael, and Pu, Ken. \"Data Driven Relational Constraint Programming.\" 2020 IEEE 21st International Conference on Information Reuse and Integration for Data Science (IRI). IEEE Computer Society, 2020."
   ]
  },
  {
   "cell_type": "markdown",
   "metadata": {},
   "source": [
    "::: {style=\"margin-top: 50px; text-align:right\"}\n",
    "A complete list can be found on <a href=\"https://scholar.google.ca/citations?hl=en&user=2e4fvkwAAAAJ&view_op=list_works&sortby=pubdate\">Google Scholar</a>.\n",
    ":::"
   ]
  },
  {
   "cell_type": "code",
   "execution_count": 4,
   "metadata": {},
   "outputs": [
    {
     "data": {
      "text/html": [
       "\n"
      ],
      "text/plain": [
       "<IPython.core.display.HTML object>"
      ]
     },
     "execution_count": 4,
     "metadata": {},
     "output_type": "execute_result"
    }
   ],
   "source": [
    "#| echo: false\n",
    "from IPython.display import HTML\n",
    "HTML(\"\"\"\n",
    "\"\"\")"
   ]
  }
 ],
 "metadata": {
  "kernelspec": {
   "display_name": ".venv",
   "language": "python",
   "name": "python3"
  },
  "language_info": {
   "codemirror_mode": {
    "name": "ipython",
    "version": 3
   },
   "file_extension": ".py",
   "mimetype": "text/x-python",
   "name": "python",
   "nbconvert_exporter": "python",
   "pygments_lexer": "ipython3",
   "version": "3.10.9"
  }
 },
 "nbformat": 4,
 "nbformat_minor": 2
}
